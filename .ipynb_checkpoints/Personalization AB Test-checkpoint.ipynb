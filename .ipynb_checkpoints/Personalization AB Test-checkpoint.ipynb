{
 "cells": [
  {
   "cell_type": "markdown",
   "metadata": {},
   "source": [
    "## A/B Testing for Marketing"
   ]
  },
  {
   "cell_type": "markdown",
   "metadata": {},
   "source": [
    "**A/B Testing is a randomized experiment which evaluates which variant performs better.\n",
    "Prior to running the test, an hypothesis must be developed and define which metric we are trying to impact**"
   ]
  },
  {
   "cell_type": "code",
   "execution_count": 1,
   "metadata": {},
   "outputs": [],
   "source": [
    "import pandas as pd\n",
    "import numpy as np\n",
    "import matplotlib.pyplot as plt\n",
    "\n",
    "marketing = pd.read_csv('./datasets/marketing.csv')"
   ]
  },
  {
   "cell_type": "code",
   "execution_count": 2,
   "metadata": {},
   "outputs": [
    {
     "data": {
      "image/png": "[encoded data removed]",
      "text/plain": [
       "<Figure size 432x288 with 1 Axes>"
      ]
     },
     "metadata": {
      "needs_background": "light"
     },
     "output_type": "display_data"
    }
   ],
   "source": [
    "#let's first isolate the rows of the DS where the channel is Email\n",
    "email = marketing[marketing['marketing_channel'] == 'Email']\n",
    "\n",
    "alloc = email.groupby(['variant'])['user_id'].nunique()\n",
    "\n",
    "alloc.plot(kind='bar')\n",
    "plt.title('Personalization test allocation')\n",
    "plt.xticks(rotation = 0)\n",
    "plt.ylabel('# participants')\n",
    "plt.show()"
   ]
  },
  {
   "cell_type": "code",
   "execution_count": 3,
   "metadata": {},
   "outputs": [
    {
     "name": "stdout",
     "output_type": "stream",
     "text": [
      "variant    control personalization\n",
      "user_id                           \n",
      "a100000526     NaN            True\n",
      "a100000530     NaN            True\n",
      "a100000534     NaN           False\n",
      "a100000538     NaN            True\n",
      "a100000542     NaN            True\n",
      "...            ...             ...\n",
      "a100007288    True             NaN\n",
      "a100007289    True             NaN\n",
      "a100007290    True             NaN\n",
      "a100007291    True             NaN\n",
      "a100007293    True             NaN\n",
      "\n",
      "[553 rows x 2 columns]\n"
     ]
    }
   ],
   "source": [
    "subscribers = email.groupby(['user_id', 'variant'])['converted'].max()\n",
    "\n",
    "subscribers_df = pd.DataFrame(subscribers.unstack(level = 1))\n",
    "\n",
    "control = subscribers_df['control'].dropna()\n",
    "\n",
    "personalization = subscribers_df['personalization'].dropna()\n",
    "\n",
    "print(subscribers_df)"
   ]
  },
  {
   "cell_type": "code",
   "execution_count": 4,
   "metadata": {},
   "outputs": [
    {
     "name": "stdout",
     "output_type": "stream",
     "text": [
      "Control conversion rate: 0.2814814814814815\n",
      "Personalization conversion rate: 0.3908450704225352\n"
     ]
    }
   ],
   "source": [
    "print('Control conversion rate:', np.mean(control))\n",
    "print('Personalization conversion rate:', np.mean(personalization))"
   ]
  },
  {
   "cell_type": "markdown",
   "metadata": {},
   "source": [
    "## Calculating Lift and Statistical Significance\n",
    "\n",
    "**Lift is the difference between the A and B conversion rates divided by B conversion rate. In this case it would be:**\n",
    "\n",
    "\\begin{equation*}\n",
    "\\text{Lift} = \\frac{\\text{Treatment conversion rate - Control conversion rate}}{\\text{Control conversion rate}}\n",
    "\\end{equation*}\n",
    "\n",
    "**The result is the relative percent difference of treatment compared to control**"
   ]
  },
  {
   "cell_type": "code",
   "execution_count": 5,
   "metadata": {},
   "outputs": [
    {
     "name": "stdout",
     "output_type": "stream",
     "text": [
      "lift: 38.85%\n"
     ]
    }
   ],
   "source": [
    "#Calculate the mean or conversion rate of control and personalization groups\n",
    "a_mean = np.mean(control)\n",
    "b_mean = np.mean(personalization)\n",
    "\n",
    "#Calculate the lift\n",
    "lift = (b_mean - a_mean)/ a_mean\n",
    "\n",
    "print(\"lift:\", str(round(lift*100,2)) + '%')"
   ]
  },
  {
   "cell_type": "markdown",
   "metadata": {},
   "source": [
    "**Statistical significance is vital to understand if a test showed positive result by chance or if it's reflective of a true difference between variants**"
   ]
  },
  {
   "cell_type": "code",
   "execution_count": 6,
   "metadata": {},
   "outputs": [
    {
     "name": "stdout",
     "output_type": "stream",
     "text": [
      "Ttest_indResult(statistic=-2.7343299447505074, pvalue=0.0064514878446941745)\n"
     ]
    }
   ],
   "source": [
    "from scipy.stats import ttest_ind\n",
    "\n",
    "t = ttest_ind(control, personalization)\n",
    "\n",
    "print(t)"
   ]
  },
  {
   "cell_type": "markdown",
   "metadata": {},
   "source": [
    "**Given that p is 0.006, we can conclude that the results are statistically significant**"
   ]
  },
  {
   "cell_type": "markdown",
   "metadata": {},
   "source": [
    "### Building an A/B test segmentation function"
   ]
  },
  {
   "cell_type": "code",
   "execution_count": 25,
   "metadata": {},
   "outputs": [],
   "source": [
    "def ab_segmentation(segment):\n",
    "    #loop for each subsegment in marketing\n",
    "    for subsegment in np.unique(marketing[segment].values):\n",
    "        \n",
    "        print(subsegment)\n",
    "        \n",
    "        email = marketing[(marketing['marketing_channel'] == 'Email') & (marketing[segment] == subsegment)]\n",
    "        \n",
    "        subscribers = email.groupby(['user_id', 'variant'])['converted'].max()\n",
    "        subscribers = pd.DataFrame(subscribers.unstack())\n",
    "        \n",
    "        control = subscribers['control'].dropna()\n",
    "        personalization = subscribers['personalization'].dropna()\n",
    "        \n",
    "        a_mean = np.mean(control)\n",
    "        b_mean = np.mean(personalization)\n",
    "        \n",
    "        lift = (b_mean - a_mean)/ a_mean\n",
    "        \n",
    "        print('lift:', lift)\n",
    "        print('t-statistic:', ttest_ind(control, personalization), '\\n\\n')"
   ]
  },
  {
   "cell_type": "code",
   "execution_count": 26,
   "metadata": {},
   "outputs": [
    {
     "name": "stdout",
     "output_type": "stream",
     "text": [
      "Arabic\n",
      "lift: 0.4999999999999999\n",
      "t-statistic: Ttest_indResult(statistic=-0.5773502691896255, pvalue=0.5795840000000001) \n",
      "\n",
      "\n",
      "English\n",
      "lift: 0.3900293255131965\n",
      "t-statistic: Ttest_indResult(statistic=-2.2183598646203166, pvalue=0.026991701290720815) \n",
      "\n",
      "\n",
      "German\n",
      "lift: -0.016203703703703685\n",
      "t-statistic: Ttest_indResult(statistic=0.1910083418078718, pvalue=0.8494394170062678) \n",
      "\n",
      "\n",
      "Spanish\n",
      "lift: 1.6666666666666667\n",
      "t-statistic: Ttest_indResult(statistic=-2.3570226039551585, pvalue=0.040156718110477524) \n",
      "\n",
      "\n"
     ]
    }
   ],
   "source": [
    "ab_segmentation('language_displayed')"
   ]
  },
  {
   "cell_type": "code",
   "execution_count": 27,
   "metadata": {},
   "outputs": [
    {
     "name": "stdout",
     "output_type": "stream",
     "text": [
      "0-18 years\n",
      "lift: 1.2140000000000002\n",
      "t-statistic: Ttest_indResult(statistic=-2.966044912142211, pvalue=0.0038724494391297226) \n",
      "\n",
      "\n",
      "19-24 years\n",
      "lift: 1.0624151967435547\n",
      "t-statistic: Ttest_indResult(statistic=-3.03179438478667, pvalue=0.0030623836114689134) \n",
      "\n",
      "\n",
      "24-30 years\n",
      "lift: 1.611851851851852\n",
      "t-statistic: Ttest_indResult(statistic=-3.861539544326876, pvalue=0.00018743381094867335) \n",
      "\n",
      "\n",
      "30-36 years\n",
      "lift: -1.0\n",
      "t-statistic: Ttest_indResult(statistic=3.1859064644147996, pvalue=0.0023238487431765137) \n",
      "\n",
      "\n",
      "36-45 years\n",
      "lift: -0.8522727272727273\n",
      "t-statistic: Ttest_indResult(statistic=2.4317901279318503, pvalue=0.017975686009788286) \n",
      "\n",
      "\n",
      "45-55 years\n",
      "lift: -0.7222222222222223\n",
      "t-statistic: Ttest_indResult(statistic=2.065499127317933, pvalue=0.043062339688201196) \n",
      "\n",
      "\n",
      "55+ years\n",
      "lift: -1.0\n",
      "t-statistic: Ttest_indResult(statistic=3.3265654564203397, pvalue=0.0016358623456360435) \n",
      "\n",
      "\n"
     ]
    }
   ],
   "source": [
    "ab_segmentation('age_group')"
   ]
  }
 ],
 "metadata": {
  "kernelspec": {
   "display_name": "Python 3",
   "language": "python",
   "name": "python3"
  },
  "language_info": {
   "codemirror_mode": {
    "name": "ipython",
    "version": 3
   },
   "file_extension": ".py",
   "mimetype": "text/x-python",
   "name": "python",
   "nbconvert_exporter": "python",
   "pygments_lexer": "ipython3",
   "version": "3.7.7"
  }
 },
 "nbformat": 4,
 "nbformat_minor": 4
}
