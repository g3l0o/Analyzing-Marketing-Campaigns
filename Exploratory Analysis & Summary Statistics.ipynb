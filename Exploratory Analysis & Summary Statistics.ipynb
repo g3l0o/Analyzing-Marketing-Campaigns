{
 "cells": [
  {
   "cell_type": "markdown",
   "metadata": {},
   "source": [
    "# Exploratory Analysis & Summary Statistics"
   ]
  },
  {
   "cell_type": "markdown",
   "metadata": {},
   "source": [
    "**We will use common marketing metrics and we will calculate them using Pandas and we will visualize the results**"
   ]
  },
  {
   "cell_type": "code",
   "execution_count": 1,
   "metadata": {},
   "outputs": [],
   "source": [
    "import pandas as pd\n",
    "import numpy as np\n",
    "import matplotlib.pyplot as plt\n",
    "\n",
    "marketing = pd.read_csv('./datasets/marketing.csv')"
   ]
  },
  {
   "cell_type": "code",
   "execution_count": 2,
   "metadata": {},
   "outputs": [
    {
     "name": "stdout",
     "output_type": "stream",
     "text": [
      "      user_id date_served marketing_channel          variant converted  \\\n",
      "0  a100000029      1/1/18         House Ads  personalization      True   \n",
      "1  a100000030      1/1/18         House Ads  personalization      True   \n",
      "2  a100000031      1/1/18         House Ads  personalization      True   \n",
      "3  a100000032      1/1/18         House Ads  personalization      True   \n",
      "4  a100000033      1/1/18         House Ads  personalization      True   \n",
      "\n",
      "  language_displayed language_preferred    age_group date_subscribed  \\\n",
      "0            English            English   0-18 years          1/1/18   \n",
      "1            English            English  19-24 years          1/1/18   \n",
      "2            English            English  24-30 years          1/1/18   \n",
      "3            English            English  30-36 years          1/1/18   \n",
      "4            English            English  36-45 years          1/1/18   \n",
      "\n",
      "  date_canceled subscribing_channel is_retained  \n",
      "0           NaN           House Ads        True  \n",
      "1           NaN           House Ads        True  \n",
      "2           NaN           House Ads        True  \n",
      "3           NaN           House Ads        True  \n",
      "4           NaN           House Ads        True  \n"
     ]
    }
   ],
   "source": [
    "print(marketing.head())"
   ]
  },
  {
   "cell_type": "markdown",
   "metadata": {},
   "source": [
    "#### Conversion Rate\n",
    "\n",
    "% of people we marketed to who ultimately converted to our product\n",
    "\n",
    "\\begin{equation*}\n",
    "\\text{Conversion Rate} = \\frac{\\text{Number of people who convert}}{\\text{Total Number of people we marketed to}}\n",
    "\\end{equation*}"
   ]
  },
  {
   "cell_type": "code",
   "execution_count": 3,
   "metadata": {},
   "outputs": [
    {
     "name": "stdout",
     "output_type": "stream",
     "text": [
      "13.89 %\n"
     ]
    }
   ],
   "source": [
    "subscribers = marketing[marketing['converted'] == True]['user_id'].nunique()\n",
    "total = marketing['user_id'].nunique()\n",
    "conv_rate = subscribers / total\n",
    "\n",
    "print(round(conv_rate *100,2),'%')"
   ]
  },
  {
   "cell_type": "markdown",
   "metadata": {},
   "source": [
    "#### Retention Rate\n",
    "\n",
    "% of people that remain subscribed after a certain period of time\n",
    "\n",
    "\\begin{equation*}\n",
    "\\text{Retention Rate} = \\frac{\\text{Number of people who remain subscribed}}{\\text{Total Number of people who converted}}\n",
    "\\end{equation*}"
   ]
  },
  {
   "cell_type": "code",
   "execution_count": 4,
   "metadata": {},
   "outputs": [
    {
     "name": "stdout",
     "output_type": "stream",
     "text": [
      "66.8 %\n"
     ]
    }
   ],
   "source": [
    "retained = marketing[marketing['is_retained'] == True]['user_id'].nunique()\n",
    "\n",
    "subscribers = marketing[marketing['converted'] == True]['user_id'].nunique()\n",
    "\n",
    "retention = retained / subscribers\n",
    "\n",
    "print(round(retention*100, 2), '%')"
   ]
  },
  {
   "cell_type": "markdown",
   "metadata": {},
   "source": [
    "### Customer Segmentation"
   ]
  },
  {
   "cell_type": "markdown",
   "metadata": {},
   "source": [
    "**Common ways to segment audiences**\n",
    "- Age\n",
    "- Gender\n",
    "- Location\n",
    "- Past interactions with the business\n",
    "- Marketing channels the user interacted with\n",
    "\n",
    "**Subset of only House Ads**"
   ]
  },
  {
   "cell_type": "code",
   "execution_count": 5,
   "metadata": {},
   "outputs": [
    {
     "name": "stdout",
     "output_type": "stream",
     "text": [
      "      user_id date_served marketing_channel          variant converted  \\\n",
      "0  a100000029      1/1/18         House Ads  personalization      True   \n",
      "1  a100000030      1/1/18         House Ads  personalization      True   \n",
      "2  a100000031      1/1/18         House Ads  personalization      True   \n",
      "3  a100000032      1/1/18         House Ads  personalization      True   \n",
      "4  a100000033      1/1/18         House Ads  personalization      True   \n",
      "\n",
      "  language_displayed language_preferred    age_group date_subscribed  \\\n",
      "0            English            English   0-18 years          1/1/18   \n",
      "1            English            English  19-24 years          1/1/18   \n",
      "2            English            English  24-30 years          1/1/18   \n",
      "3            English            English  30-36 years          1/1/18   \n",
      "4            English            English  36-45 years          1/1/18   \n",
      "\n",
      "  date_canceled subscribing_channel is_retained  \n",
      "0           NaN           House Ads        True  \n",
      "1           NaN           House Ads        True  \n",
      "2           NaN           House Ads        True  \n",
      "3           NaN           House Ads        True  \n",
      "4           NaN           House Ads        True  \n"
     ]
    }
   ],
   "source": [
    "house_ads = marketing[marketing['subscribing_channel'] == 'House Ads']\n",
    "\n",
    "print(house_ads.head())"
   ]
  },
  {
   "cell_type": "markdown",
   "metadata": {},
   "source": [
    "**Percentage of user retained using *'House Ads'***"
   ]
  },
  {
   "cell_type": "code",
   "execution_count": 6,
   "metadata": {},
   "outputs": [
    {
     "name": "stdout",
     "output_type": "stream",
     "text": [
      "58.05 %\n"
     ]
    }
   ],
   "source": [
    "retained = house_ads[house_ads['is_retained'] == True]['user_id'].nunique()\n",
    "\n",
    "subscribers = house_ads[house_ads['converted'] == True]['user_id'].nunique()\n",
    "\n",
    "retention = retained / subscribers\n",
    "\n",
    "print(round(retention*100, 2), '%')"
   ]
  },
  {
   "cell_type": "markdown",
   "metadata": {},
   "source": [
    "**Retention by channel**"
   ]
  },
  {
   "cell_type": "code",
   "execution_count": 7,
   "metadata": {},
   "outputs": [
    {
     "name": "stdout",
     "output_type": "stream",
     "text": [
      "subscribing_channel\n",
      "Email        141\n",
      "Facebook     152\n",
      "House Ads    173\n",
      "Instagram    158\n",
      "Push          54\n",
      "Name: user_id, dtype: int64\n"
     ]
    }
   ],
   "source": [
    "retained = marketing[marketing['is_retained'] == True].groupby(['subscribing_channel'])['user_id'].nunique()\n",
    "print(retained)"
   ]
  },
  {
   "cell_type": "markdown",
   "metadata": {},
   "source": [
    "**Converted by channel**"
   ]
  },
  {
   "cell_type": "code",
   "execution_count": 8,
   "metadata": {},
   "outputs": [
    {
     "name": "stdout",
     "output_type": "stream",
     "text": [
      "subscribing_channel\n",
      "Email        161\n",
      "Facebook     221\n",
      "House Ads    298\n",
      "Instagram    232\n",
      "Push          77\n",
      "Name: user_id, dtype: int64\n"
     ]
    }
   ],
   "source": [
    "subscribers = marketing[marketing['converted'] == True].groupby(['subscribing_channel'])['user_id'].nunique()\n",
    "print(subscribers)"
   ]
  },
  {
   "cell_type": "markdown",
   "metadata": {},
   "source": [
    "**Retention Rate by channel**"
   ]
  },
  {
   "cell_type": "code",
   "execution_count": 9,
   "metadata": {},
   "outputs": [
    {
     "name": "stdout",
     "output_type": "stream",
     "text": [
      "subscribing_channel\n",
      "Email        87.577640\n",
      "Facebook     68.778281\n",
      "House Ads    58.053691\n",
      "Instagram    68.103448\n",
      "Push         70.129870\n",
      "Name: user_id, dtype: float64\n"
     ]
    }
   ],
   "source": [
    "channel_retention_rate = (retained/subscribers)*100\n",
    "print(channel_retention_rate)"
   ]
  },
  {
   "cell_type": "code",
   "execution_count": null,
   "metadata": {},
   "outputs": [],
   "source": []
  }
 ],
 "metadata": {
  "kernelspec": {
   "display_name": "Python 3",
   "language": "python",
   "name": "python3"
  },
  "language_info": {
   "codemirror_mode": {
    "name": "ipython",
    "version": 3
   },
   "file_extension": ".py",
   "mimetype": "text/x-python",
   "name": "python",
   "nbconvert_exporter": "python",
   "pygments_lexer": "ipython3",
   "version": "3.7.7"
  }
 },
 "nbformat": 4,
 "nbformat_minor": 4
}
